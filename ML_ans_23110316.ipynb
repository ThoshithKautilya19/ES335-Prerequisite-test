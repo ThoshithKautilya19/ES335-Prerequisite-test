{
 "cells": [
  {
   "cell_type": "code",
   "execution_count": null,
   "id": "89e99e6f",
   "metadata": {},
   "outputs": [],
   "source": [
    "import numpy as np\n",
    "import matplotlib.pyplot as plt\n",
    "import pandas as pd\n",
    "import time\n"
   ]
  },
  {
   "cell_type": "markdown",
   "id": "e82d4a75",
   "metadata": {},
   "source": [
    "Q1"
   ]
  },
  {
   "cell_type": "markdown",
   "id": "a82a7906",
   "metadata": {},
   "source": [
    "For matrix multiplication:\n",
    "\n",
    "**(MxN)x(NxK)**\n",
    "\n",
    "- Each **row** of the first matrix multiplies with all **columns** of the second matrix, so the total number of row–column multiplications is: **(MxK)**\n",
    "\n",
    "- In each row–column multiplication, there are \\(n\\) individual element multiplications, so the total number of multiplications is: **(MxKxN)**\n",
    "\n",
    "- In each row–column multiplication, the \\(n\\) products are added together to form one element in the result. This requires \\(n-1\\) additions for each element, so the total number of additions is: **(MxKx(N-1))**\n"
   ]
  },
  {
   "cell_type": "markdown",
   "id": "c21184d3",
   "metadata": {},
   "source": [
    "**Q2**\n"
   ]
  },
  {
   "cell_type": "code",
   "execution_count": null,
   "id": "a1bf922b",
   "metadata": {},
   "outputs": [
    {
     "name": "stdout",
     "output_type": "stream",
     "text": [
      "List of Lists time: 1.0599993402138352e-05 seconds\n",
      "NumPy time: 0.000016 seconds\n",
      "List of Lists time: 2.2653620000055525 seconds\n",
      "NumPy time: 0.011838 seconds\n",
      "Results match? True\n"
     ]
    }
   ],
   "source": [
    "\n",
    "\n",
    "\n",
    "def listmul(m,n):\n",
    "    start=time.perf_counter()\n",
    "    res=[]\n",
    "    for i in range(len(m)-1,-1,-1):\n",
    "        row=[]\n",
    "        for j in range(len(n[1])-1,-1,-1):\n",
    "            total=0\n",
    "            for k in range(len(n)):\n",
    "                total+=(m[i][k]*n[k][j])\n",
    "            row.append(total)\n",
    "        row.reverse()\n",
    "        res.append(row)\n",
    "\n",
    "    res.reverse()\n",
    "\n",
    "    end=time.perf_counter()\n",
    "\n",
    "    print(f\"List of Lists time: {end-start} seconds\")\n",
    "    return res\n",
    "\n",
    "def numpy_mul(m, n):\n",
    "    m_n = np.array(m)\n",
    "    n_n = np.array(n)\n",
    "\n",
    "    start = time.perf_counter()\n",
    "    result = np.matmul(m_n,n_n) \n",
    "    end = time.perf_counter()\n",
    "\n",
    "    print(f\"NumPy time: {end - start:.6f} seconds\")\n",
    "    return result\n",
    "\n",
    "\n",
    "a=[[1,2,3],[2,3,4]]\n",
    "b=[[1,2],[2,4],[1,6]]\n",
    "\n",
    "res_list1=listmul(a,b)\n",
    "res_numpy1=numpy_mul(a,b)\n",
    "\n",
    "\n",
    "p, q, r = 300, 400, 200  \n",
    "A = [[j for j in range(q)] for i in range(p)] #large matrices \n",
    "B = [[j for j in range(r)] for i in range(q)]\n",
    "\n",
    "res_list2 = listmul(A, B)\n",
    "res_numpy2 = numpy_mul(A, B)\n",
    "\n",
    "# Check if results are the same\n",
    "print(\"Results match?\", np.allclose(res_list2, res_numpy2))\n"
   ]
  },
  {
   "cell_type": "markdown",
   "id": "5448e8db",
   "metadata": {},
   "source": [
    "The difference in times is considerable in large matrices, which are a common occurence in everyday ML applications"
   ]
  },
  {
   "cell_type": "markdown",
   "id": "b26e8834",
   "metadata": {},
   "source": [
    "A reason I can think of is due to the Numpy framework being more close to the C++ core, and so its inherently faster than Python"
   ]
  },
  {
   "cell_type": "markdown",
   "id": "4ab918d6",
   "metadata": {},
   "source": [
    "**Q3**"
   ]
  },
  {
   "cell_type": "markdown",
   "id": "fb95cfaa",
   "metadata": {},
   "source": [
    "The median is defined as the element in a list which lies in the middle of all the elements present in the list, when sorted. "
   ]
  },
  {
   "cell_type": "markdown",
   "id": "2cdef1a9",
   "metadata": {},
   "source": [
    "Using the method proposed in the question, we have to pass through the array ceil(n/2) times, for finding the median of the array. Also, the time complexity of each pass through an array is O(n), where n is the number of elements present in the array. "
   ]
  },
  {
   "cell_type": "markdown",
   "id": "5bdea8ce",
   "metadata": {},
   "source": [
    "The assumption I am making in this method is that in the kth pass of the array, we get the kth highest element, and then in the next pass compare the elements to find the element closest to it and smaller than it. To reach the median, which can be said as (n/2)th highest element in the array. Number of passes required would be then $$\n",
    "\\lceil \\frac{N}{2} \\rceil $$\n",
    "\n",
    "So, the total time complexity would be:  \n",
    "\n",
    "$$\n",
    "O\\big(N \\cdot \\lceil N/2 \\rceil\\big)\n",
    "$$  \n",
    "\n",
    "$$\n",
    "\\approx O(N^2)\n",
    "$$"
   ]
  },
  {
   "cell_type": "markdown",
   "id": "de97f275",
   "metadata": {},
   "source": [
    "The better method I can think of right now, would be sorting the given array using Quick Sort, whose time complexity is O(N.log(N)), where N is the number of elements in the array. Then access the ceil(N/2)th element in the array. The accessing time in an array is a O(1) operation or a constant time complexity operation. So, the resultant time complexity would be: \n",
    "$$\n",
    "O\\big(N \\cdot log(N)\\big) + O(1) \\\\\n",
    "~=O\\big(N \\cdot log(N)\\big)\n",
    "$$  "
   ]
  },
  {
   "cell_type": "code",
   "execution_count": 174,
   "id": "2bd66696",
   "metadata": {},
   "outputs": [],
   "source": [
    "#Method 1\n",
    "import math\n",
    "def meth1(a):\n",
    "    n=len(a)\n",
    "    curr_max=-1\n",
    "    better_max=max(a)\n",
    "    bef_max=-1\n",
    "    # print(better_max)\n",
    "    s=time.perf_counter()\n",
    "    for i in range((int)(n/2)):\n",
    "        for i in range(n):\n",
    "            if a[i]<better_max and a[i]>=curr_max:\n",
    "                curr_max=a[i]\n",
    "        bef_max=better_max\n",
    "        better_max=curr_max\n",
    "        \n",
    "        # print(better_max)\n",
    "        curr_max=-1\n",
    "    e=time.perf_counter()\n",
    "    print(f\"time taken: {e-s}\")\n",
    "\n",
    "    if n%2==0:\n",
    "        print(f\"The median is : {(bef_max+better_max)/2}\") \n",
    "    else:\n",
    "\n",
    "        print(f\"The median is: {better_max}\") \n",
    "\n"
   ]
  },
  {
   "cell_type": "code",
   "execution_count": 175,
   "id": "aa034bff",
   "metadata": {},
   "outputs": [
    {
     "name": "stdout",
     "output_type": "stream",
     "text": [
      "time taken: 4.3000036384910345e-06\n",
      "The median is : 5.5\n"
     ]
    }
   ],
   "source": [
    "meth1([2,12,5,3,17,6])"
   ]
  },
  {
   "cell_type": "code",
   "execution_count": 172,
   "id": "6e08b08f",
   "metadata": {},
   "outputs": [],
   "source": [
    "#Method-2 \n",
    "def meth2(a):\n",
    "    s=time.perf_counter()\n",
    "    a.sort()\n",
    "    n=len(a)\n",
    "    e=time.perf_counter()\n",
    "    print(f\"time taken: {e-s}\")\n",
    "    if n%2==0:\n",
    "        print(f\"The median is: {(a[(int)(n/2)]+a[(int)(n/2)-1])/2}\")\n",
    "    else:\n",
    "\n",
    "        print(f\"The median is: {a[(int)(n/2)]}\")\n",
    "\n"
   ]
  },
  {
   "cell_type": "code",
   "execution_count": 173,
   "id": "72523a8e",
   "metadata": {},
   "outputs": [
    {
     "name": "stdout",
     "output_type": "stream",
     "text": [
      "time taken: 1.4999823179095984e-06\n",
      "The median is: 5.5\n"
     ]
    }
   ],
   "source": [
    "meth2([2,12,5,3,17,6])"
   ]
  },
  {
   "cell_type": "code",
   "execution_count": 170,
   "id": "a461e989",
   "metadata": {},
   "outputs": [],
   "source": [
    "#Method 3 np.median\n",
    "def meth3(a):\n",
    "    s=time.perf_counter()\n",
    "    a=np.median(a)\n",
    "    e=time.perf_counter()\n",
    "    print(f\"The median is: {a}\")\n",
    "    print(f\"time taken: {e-s}\")\n",
    "\n"
   ]
  },
  {
   "cell_type": "code",
   "execution_count": 171,
   "id": "3a905220",
   "metadata": {},
   "outputs": [
    {
     "name": "stdout",
     "output_type": "stream",
     "text": [
      "The median is: 5.5\n",
      "time taken: 0.00011729999096132815\n"
     ]
    }
   ],
   "source": [
    "meth3([2,12,5,3,17,6])"
   ]
  },
  {
   "cell_type": "markdown",
   "id": "da16da4c",
   "metadata": {},
   "source": [
    "LONGER ARRAYS"
   ]
  },
  {
   "cell_type": "code",
   "execution_count": 159,
   "id": "4c47000e",
   "metadata": {},
   "outputs": [],
   "source": [
    "import random\n",
    "a_long=[]\n",
    "for i in range(1000):\n",
    "    a_long.append(random.randint(1, 100))"
   ]
  },
  {
   "cell_type": "code",
   "execution_count": 160,
   "id": "6a0b7688",
   "metadata": {},
   "outputs": [
    {
     "name": "stdout",
     "output_type": "stream",
     "text": [
      "time taken: 0.02631620000465773\n",
      "time taken: 6.229997961781919e-05\n",
      "time taken: 0.0005824000108987093\n"
     ]
    }
   ],
   "source": [
    "meth1(a_long)\n",
    "meth2(a_long)\n",
    "meth3(a_long)"
   ]
  },
  {
   "cell_type": "markdown",
   "id": "7da7b656",
   "metadata": {},
   "source": [
    "**Q4**"
   ]
  },
  {
   "cell_type": "markdown",
   "id": "fbb34cc9",
   "metadata": {},
   "source": [
    "Derivative with respect to \\( x \\):  \n",
    "\n",
    "$$\n",
    "\\frac{\\partial f}{\\partial x} = 2xy + y^{3} \\cos(x)\n",
    "$$  \n",
    "\n",
    "Derivative with respect to \\( y \\):  \n",
    "\n",
    "$$\n",
    "\\frac{\\partial f}{\\partial y} = x^{2} + 3y^{2} \\sin(x)\n",
    "$$\n"
   ]
  },
  {
   "cell_type": "markdown",
   "id": "f1950eb2",
   "metadata": {},
   "source": [
    "**Q5** "
   ]
  },
  {
   "cell_type": "markdown",
   "id": "345a10ce",
   "metadata": {},
   "source": [
    "Using JAX, for calculating derivatives "
   ]
  },
  {
   "cell_type": "code",
   "execution_count": 104,
   "id": "b50be4ae",
   "metadata": {},
   "outputs": [
    {
     "name": "stdout",
     "output_type": "stream",
     "text": [
      "Looking in indexes: https://pypi.org/simple, https://pypi.ngc.nvidia.comNote: you may need to restart the kernel to use updated packages.\n",
      "\n",
      "Collecting jax\n",
      "  Downloading jax-0.7.0-py3-none-any.whl.metadata (13 kB)\n",
      "Collecting jaxlib<=0.7.0,>=0.7.0 (from jax)\n",
      "  Downloading jaxlib-0.7.0-cp312-cp312-win_amd64.whl.metadata (1.3 kB)\n",
      "Collecting ml_dtypes>=0.5.0 (from jax)\n",
      "  Downloading ml_dtypes-0.5.3-cp312-cp312-win_amd64.whl.metadata (9.2 kB)\n",
      "Requirement already satisfied: numpy>=1.26 in e:\\anaconda3\\lib\\site-packages (from jax) (1.26.4)\n",
      "Collecting opt_einsum (from jax)\n",
      "  Downloading opt_einsum-3.4.0-py3-none-any.whl.metadata (6.3 kB)\n",
      "Requirement already satisfied: scipy>=1.12 in e:\\anaconda3\\lib\\site-packages (from jax) (1.13.1)\n",
      "Downloading jax-0.7.0-py3-none-any.whl (2.8 MB)\n",
      "   ---------------------------------------- 0.0/2.8 MB ? eta -:--:--\n",
      "   ---------------------------------------- 2.8/2.8 MB 23.2 MB/s eta 0:00:00\n",
      "Downloading jaxlib-0.7.0-cp312-cp312-win_amd64.whl (60.2 MB)\n",
      "   ---------------------------------------- 0.0/60.2 MB ? eta -:--:--\n",
      "   ---- ----------------------------------- 6.3/60.2 MB 32.1 MB/s eta 0:00:02\n",
      "   ------- -------------------------------- 10.7/60.2 MB 25.8 MB/s eta 0:00:02\n",
      "   --------- ------------------------------ 14.4/60.2 MB 22.6 MB/s eta 0:00:03\n",
      "   ------------ --------------------------- 19.1/60.2 MB 22.4 MB/s eta 0:00:02\n",
      "   --------------- ------------------------ 23.3/60.2 MB 22.0 MB/s eta 0:00:02\n",
      "   ------------------ --------------------- 27.5/60.2 MB 21.8 MB/s eta 0:00:02\n",
      "   ---------------------- ----------------- 34.1/60.2 MB 23.0 MB/s eta 0:00:02\n",
      "   --------------------------- ------------ 40.6/60.2 MB 24.1 MB/s eta 0:00:01\n",
      "   ------------------------------- -------- 47.2/60.2 MB 25.0 MB/s eta 0:00:01\n",
      "   ----------------------------------- ---- 53.5/60.2 MB 25.4 MB/s eta 0:00:01\n",
      "   ---------------------------------------  58.7/60.2 MB 25.6 MB/s eta 0:00:01\n",
      "   ---------------------------------------- 60.2/60.2 MB 25.4 MB/s eta 0:00:00\n",
      "Downloading ml_dtypes-0.5.3-cp312-cp312-win_amd64.whl (208 kB)\n",
      "Downloading opt_einsum-3.4.0-py3-none-any.whl (71 kB)\n",
      "Installing collected packages: opt_einsum, ml_dtypes, jaxlib, jax\n",
      "Successfully installed jax-0.7.0 jaxlib-0.7.0 ml_dtypes-0.5.3 opt_einsum-3.4.0\n"
     ]
    }
   ],
   "source": [
    "pip install jax"
   ]
  },
  {
   "cell_type": "code",
   "execution_count": 84,
   "id": "4a2b929e",
   "metadata": {},
   "outputs": [],
   "source": [
    "import jax\n",
    "import jax.numpy as jnp\n",
    "from jax import grad"
   ]
  },
  {
   "cell_type": "code",
   "execution_count": 178,
   "id": "c0a04eb9",
   "metadata": {},
   "outputs": [
    {
     "name": "stdout",
     "output_type": "stream",
     "text": [
      "For these x and y:  x=1.370, y=-2.302. The gradients are: grad_x=-8.744123, grad_y=17.454630\n",
      "For these x and y:  x=-4.590, y=-4.835. The gradients are: grad_x=58.152237, grad_y=90.671921\n",
      "For these x and y:  x=3.133, y=4.128. The gradients are: grad_x=-44.456413, grad_y=10.268204\n"
     ]
    }
   ],
   "source": [
    "def f(x,y):\n",
    "    return (x**2)*(y)+(y**3)*(jnp.sin(x))   #the same function\n",
    "\n",
    "grad_x = grad(lambda x, y: f(x, y), argnums=0)   #deriv wrt which arg => x here\n",
    "grad_y = grad(lambda x, y: f(x, y), argnums=1)  # deriv wrt y here\n",
    "\n",
    "#eval at random values\n",
    "val=np.random.default_rng(0)\n",
    "for i in range(3):\n",
    "    x_val=val.uniform(-5,5)\n",
    "    y_val=val.uniform(-5,5)\n",
    "    gx=grad_x(x_val, y_val)\n",
    "    gy=grad_y(x_val, y_val)\n",
    "    print(f\"For these x and y:  x={x_val:.3f}, y={y_val:.3f}. The gradients are: grad_x={gx:.6f}, grad_y={gy:.6f}\")"
   ]
  },
  {
   "cell_type": "markdown",
   "id": "f4bdbfd3",
   "metadata": {},
   "source": [
    "**Q6**"
   ]
  },
  {
   "cell_type": "markdown",
   "id": "3ee9f146",
   "metadata": {},
   "source": [
    "SYMPY - for symbolic representation of the derivatives"
   ]
  },
  {
   "cell_type": "code",
   "execution_count": 165,
   "id": "c57e337d",
   "metadata": {},
   "outputs": [
    {
     "name": "stdout",
     "output_type": "stream",
     "text": [
      "partial diff wrt x: 2*x*y + y**3*cos(x)\n",
      "partial diff wrt y: x**2 + 3*y**2*sin(x)\n"
     ]
    }
   ],
   "source": [
    "import sympy \n",
    "\n",
    "x,y=sympy.symbols('x y', real=True)\n",
    "\n",
    "#the func\n",
    "f=(x**2)*y+(y**3)*(sympy.sin(x))\n",
    "do_f_do_x=sympy.diff(f,x)\n",
    "do_f_do_y=sympy.diff(f,y)\n",
    "\n",
    "print(f\"partial diff wrt x: {do_f_do_x}\")\n",
    "print(f\"partial diff wrt y: {do_f_do_y}\" )"
   ]
  },
  {
   "cell_type": "markdown",
   "id": "244b3a6b",
   "metadata": {},
   "source": [
    "Its the same"
   ]
  },
  {
   "cell_type": "markdown",
   "id": "33d701aa",
   "metadata": {},
   "source": [
    "**Q7**"
   ]
  },
  {
   "cell_type": "markdown",
   "id": "d5b51fd4",
   "metadata": {},
   "source": [
    "NESTED DICT=> im assuming the same dictionary format as mentioned in the q, with 2021 and 2022 filled with students and marks, while 2023-25 are empty, as they are for future uses.\n"
   ]
  },
  {
   "cell_type": "code",
   "execution_count": 114,
   "id": "9d667f76",
   "metadata": {},
   "outputs": [],
   "source": [
    "dict={\"2022\":{\"Branch 1\":{},\"Branch 2\":{}},\"2023\":{\"Branch 1\":{},\"Branch 2\":{}},\"2023\":{\"Branch 1\":{},\"Branch 2\":{}},\"2024\":{\"Branch 1\":{},\"Branch 2\":{}},\"2025\":{\"Branch 1\":{},\"Branch 2\":{}}}"
   ]
  },
  {
   "cell_type": "code",
   "execution_count": 115,
   "id": "1793c0b4",
   "metadata": {},
   "outputs": [],
   "source": [
    "#a student dic is required to be made when addition of a student is required\n",
    "stu1={\"Name\": \"p1\", \"Marks\":{\"Maths\":77, \"English\":88}}\n",
    "stu2={\"Name\": \"p2\", \"Marks\":{\"Maths\":96, \"English\":99}}\n",
    "\n",
    "dict[\"2022\"][\"Branch 1\"][23110316]=stu1\n",
    "dict[\"2022\"][\"Branch 1\"][23110317]=stu2\n",
    "\n"
   ]
  },
  {
   "cell_type": "code",
   "execution_count": 116,
   "id": "16f91437",
   "metadata": {},
   "outputs": [
    {
     "data": {
      "text/plain": [
       "{'2022': {'Branch 1': {23110316: {'Name': 'p1',\n",
       "    'Marks': {'Maths': 77, 'English': 88}},\n",
       "   23110317: {'Name': 'p2', 'Marks': {'Maths': 96, 'English': 99}}},\n",
       "  'Branch 2': {}},\n",
       " '2023': {'Branch 1': {}, 'Branch 2': {}},\n",
       " '2024': {'Branch 1': {}, 'Branch 2': {}},\n",
       " '2025': {'Branch 1': {}, 'Branch 2': {}}}"
      ]
     },
     "execution_count": 116,
     "metadata": {},
     "output_type": "execute_result"
    }
   ],
   "source": [
    "dict"
   ]
  },
  {
   "cell_type": "code",
   "execution_count": 117,
   "id": "5c438fe6",
   "metadata": {},
   "outputs": [
    {
     "name": "stdout",
     "output_type": "stream",
     "text": [
      "This guy's name is :p1\n",
      "Their marks in Math are :77\n",
      "Another guy\n",
      "This guy's name is :p2\n",
      "Their marks in Math are :96\n"
     ]
    }
   ],
   "source": [
    "#accessing the info would be like\n",
    "print(f\"This guy's name is :{dict[\"2022\"][\"Branch 1\"][23110316][\"Name\"]}\")\n",
    "print(f\"Their marks in Math are :{dict[\"2022\"][\"Branch 1\"][23110316][\"Marks\"][\"Maths\"]}\")\n",
    "print(\"Another guy\")\n",
    "print(f\"This guy's name is :{dict[\"2022\"][\"Branch 1\"][23110317][\"Name\"]}\")\n",
    "print(f\"Their marks in Math are :{dict[\"2022\"][\"Branch 1\"][23110317][\"Marks\"][\"Maths\"]}\")\n"
   ]
  },
  {
   "cell_type": "code",
   "execution_count": 119,
   "id": "5b19297e",
   "metadata": {},
   "outputs": [
    {
     "name": "stdout",
     "output_type": "stream",
     "text": [
      "Future guy: p1_fut\n",
      "Future guy's marks: p1_fut\n"
     ]
    }
   ],
   "source": [
    "#for other years a similar code can be written\n",
    "stu_future={\"Name\":\"p1_fut\",\"Marks\":{\"Maths\":89,\"English\":60}}\n",
    "dict[\"2025\"][\"Branch 2\"][25110316]=stu_future\n",
    "\n",
    "print(f\"Future guy: {dict[\"2025\"][\"Branch 2\"][25110316][\"Name\"]}\")\n",
    "print(f\"Future guy's marks: {dict[\"2025\"][\"Branch 2\"][25110316][\"Name\"]}\")"
   ]
  },
  {
   "cell_type": "markdown",
   "id": "ffaaafb0",
   "metadata": {},
   "source": [
    "**Q8**"
   ]
  },
  {
   "cell_type": "code",
   "execution_count": 183,
   "id": "48925ecf",
   "metadata": {},
   "outputs": [],
   "source": [
    "#classes in python\n",
    "class Student:\n",
    "    def __init__(self,roll,name, marks):\n",
    "        self.roll=roll\n",
    "        self.name=name\n",
    "        self.marks=marks\n",
    "\n",
    "    def __repr__(self):  #when printing\n",
    "        return f\"Their roll number:{self.roll}, their name is : {self.name} and their marks are: {self.marks}\"\n",
    "\n",
    "        \n",
    "s1=Student(1,\"britney spears\",{\"Maths\":88,\"English\":96})\n"
   ]
  },
  {
   "cell_type": "code",
   "execution_count": 184,
   "id": "79d4221d",
   "metadata": {},
   "outputs": [
    {
     "name": "stdout",
     "output_type": "stream",
     "text": [
      "Their roll number:1, their name is : britney spears and their marks are: {'Maths': 88, 'English': 96}\n"
     ]
    }
   ],
   "source": [
    "print(s1)"
   ]
  },
  {
   "cell_type": "code",
   "execution_count": 185,
   "id": "9ed851e7",
   "metadata": {},
   "outputs": [],
   "source": [
    "class Branch:\n",
    "    def __init__(self,name):\n",
    "        self.name=name\n",
    "        self.students=[]\n",
    "    \n",
    "    def add_this_person(self,roll,name,marks):\n",
    "        self.students.append(Student(roll,name,marks))\n",
    "\n",
    "    def __repr__(self):\n",
    "        return f\"{self.name}: {self.students}\"\n",
    "    \n",
    "    \n",
    "\n"
   ]
  },
  {
   "cell_type": "code",
   "execution_count": 186,
   "id": "4d42c4dd",
   "metadata": {},
   "outputs": [],
   "source": [
    "b_1=Branch(\"Branch 1\")\n",
    "b_1.add_this_person(1,\"westbrook\",{\"Maths\":78,\"English\":66})\n",
    "b_1.add_this_person(2,\"LeBall\",{\"Maths\":89,\"English\":90})"
   ]
  },
  {
   "cell_type": "code",
   "execution_count": 187,
   "id": "0fa220ec",
   "metadata": {},
   "outputs": [
    {
     "name": "stdout",
     "output_type": "stream",
     "text": [
      "Branch 1: [Their roll number:1, their name is : westbrook and their marks are: {'Maths': 78, 'English': 66}, Their roll number:2, their name is : LeBall and their marks are: {'Maths': 89, 'English': 90}]\n"
     ]
    }
   ],
   "source": [
    "print(b_1)"
   ]
  },
  {
   "cell_type": "code",
   "execution_count": 188,
   "id": "be25d6be",
   "metadata": {},
   "outputs": [
    {
     "name": "stdout",
     "output_type": "stream",
     "text": [
      "2022: [Branch 1: [Their roll number:1, their name is : westbrook and their marks are: {'Maths': 78, 'English': 66}, Their roll number:2, their name is : LeBall and their marks are: {'Maths': 89, 'English': 90}]]\n"
     ]
    }
   ],
   "source": [
    "class year:\n",
    "    def __init__(self,year):\n",
    "        self.year=year\n",
    "        self.branches=[]\n",
    "    \n",
    "    def add_this_branch(self,branch):\n",
    "        self.branches.append(branch)\n",
    "    \n",
    "    def __repr__(self):\n",
    "        return f\"{self.year}: {self.branches}\"\n",
    "    \n",
    "\n",
    "y1=year(2022)\n",
    "y1.add_this_branch(b_1)\n",
    "print(y1)"
   ]
  },
  {
   "cell_type": "code",
   "execution_count": 190,
   "id": "d5f8ee1e",
   "metadata": {},
   "outputs": [
    {
     "name": "stdout",
     "output_type": "stream",
     "text": [
      "The years are: [2022: [Branch 1: [Their roll number:1, their name is : westbrook and their marks are: {'Maths': 78, 'English': 66}, Their roll number:2, their name is : LeBall and their marks are: {'Maths': 89, 'English': 90}]]]\n"
     ]
    }
   ],
   "source": [
    "class s_dict:\n",
    "    def __init__(self,name):\n",
    "        self.name=name\n",
    "        self.years=[]\n",
    "    \n",
    "    def add_this_year(self,year):\n",
    "        self.years.append(year)\n",
    "\n",
    "    def __repr__(self):\n",
    "        return f\"The years are: {self.years}\"\n",
    "    \n",
    "\n",
    "schoo_dic=s_dict(\"ABC\")\n",
    "schoo_dic.add_this_year(y1)\n",
    "print(schoo_dic)\n"
   ]
  },
  {
   "cell_type": "markdown",
   "id": "01c2c546",
   "metadata": {},
   "source": [
    "and so we can do"
   ]
  },
  {
   "cell_type": "markdown",
   "id": "b587919b",
   "metadata": {},
   "source": [
    "Q9"
   ]
  },
  {
   "cell_type": "code",
   "execution_count": 191,
   "id": "f318cd53",
   "metadata": {},
   "outputs": [
    {
     "data": {
      "image/png": "[encoded data removed]",
      "text/plain": [
       "<Figure size 1600x1200 with 7 Axes>"
      ]
     },
     "metadata": {},
     "output_type": "display_data"
    }
   ],
   "source": [
    "\n",
    "\n",
    "#1\n",
    "x=np.arange(0.5,100.5,0.5)  #as it ignores the last one\n",
    "y=np.arange(0.5,100.5,0.5)  #making y too\n",
    "\n",
    "\n",
    "plt.figure(figsize=(16, 12))\n",
    "\n",
    "plt.subplot(4,2,1)\n",
    "plt.plot(x,x)\n",
    "\n",
    "#2\n",
    "y=x**2 # np\n",
    "\n",
    "plt.subplot(4,2,2)\n",
    "\n",
    "plt.plot(x,y)\n",
    "\n",
    "#3\n",
    "plt.subplot(4,2,3)\n",
    "\n",
    "y=(x**3)/100\n",
    "plt.plot(x,y)\n",
    "\n",
    "#4\n",
    "plt.subplot(4,2,4)\n",
    "y=np.sin(x)\n",
    "\n",
    "plt.plot(x,y)\n",
    "\n",
    "#5\n",
    "plt.subplot(4,2,5)\n",
    "y=(np.sin(x))\n",
    "\n",
    "plt.plot(x,y)\n",
    "\n",
    "#6\n",
    "\n",
    "plt.subplot(4,2,6)\n",
    "y=np.log(x)\n",
    "plt.plot(x,y)\n",
    "\n",
    "#7\n",
    "\n",
    "plt.subplot(4,2,7)\n",
    "y=np.exp(x)\n",
    "plt.plot(x,y)\n",
    "\n",
    "plt.show()"
   ]
  },
  {
   "cell_type": "markdown",
   "id": "2f4410bd",
   "metadata": {},
   "source": [
    "**Q10**"
   ]
  },
  {
   "cell_type": "code",
   "execution_count": 194,
   "id": "652d8ad5",
   "metadata": {},
   "outputs": [
    {
     "name": "stdout",
     "output_type": "stream",
     "text": [
      "Max standard deviation is of the column : d\n",
      "Min mean is of the row : 7\n"
     ]
    }
   ],
   "source": [
    "#making the matrix\n",
    "y=np.random.uniform(1,2,size=(20,5))\n",
    "\n",
    "#initializing the cols with a list\n",
    "ydf=pd.DataFrame(y,columns=[\"a\",\"b\",\"c\",\"d\",\"e\"])\n",
    "\n",
    "#finding the max std dev and means of all columns\n",
    "\n",
    "std_devs=ydf.std()\n",
    "max_std=std_devs.idxmax() \n",
    "print(f\"Max standard deviation is of the column : {max_std}\")\n",
    "\n",
    "means=ydf.mean(axis=1)\n",
    "max_mean=means.idxmin()\n",
    "print(f\"Min mean is of the row : {max_mean}\")\n",
    "\n"
   ]
  },
  {
   "cell_type": "markdown",
   "id": "b78999f9",
   "metadata": {},
   "source": [
    "**Q11**"
   ]
  },
  {
   "cell_type": "code",
   "execution_count": null,
   "id": "021b5423",
   "metadata": {},
   "outputs": [
    {
     "data": {
      "text/html": [
       "<div>\n",
       "<style scoped>\n",
       "    .dataframe tbody tr th:only-of-type {\n",
       "        vertical-align: middle;\n",
       "    }\n",
       "\n",
       "    .dataframe tbody tr th {\n",
       "        vertical-align: top;\n",
       "    }\n",
       "\n",
       "    .dataframe thead th {\n",
       "        text-align: right;\n",
       "    }\n",
       "</style>\n",
       "<table border=\"1\" class=\"dataframe\">\n",
       "  <thead>\n",
       "    <tr style=\"text-align: right;\">\n",
       "      <th></th>\n",
       "      <th>a</th>\n",
       "      <th>b</th>\n",
       "      <th>c</th>\n",
       "      <th>d</th>\n",
       "      <th>e</th>\n",
       "      <th>f</th>\n",
       "    </tr>\n",
       "  </thead>\n",
       "  <tbody>\n",
       "    <tr>\n",
       "      <th>0</th>\n",
       "      <td>1.019833</td>\n",
       "      <td>1.868080</td>\n",
       "      <td>1.786455</td>\n",
       "      <td>1.361948</td>\n",
       "      <td>1.621720</td>\n",
       "      <td>7.658036</td>\n",
       "    </tr>\n",
       "    <tr>\n",
       "      <th>1</th>\n",
       "      <td>1.671751</td>\n",
       "      <td>1.013434</td>\n",
       "      <td>1.229214</td>\n",
       "      <td>1.452684</td>\n",
       "      <td>1.130537</td>\n",
       "      <td>6.497619</td>\n",
       "    </tr>\n",
       "    <tr>\n",
       "      <th>2</th>\n",
       "      <td>1.751720</td>\n",
       "      <td>1.090883</td>\n",
       "      <td>1.548255</td>\n",
       "      <td>1.745906</td>\n",
       "      <td>1.970519</td>\n",
       "      <td>8.107284</td>\n",
       "    </tr>\n",
       "    <tr>\n",
       "      <th>3</th>\n",
       "      <td>1.526276</td>\n",
       "      <td>1.715283</td>\n",
       "      <td>1.943772</td>\n",
       "      <td>1.920602</td>\n",
       "      <td>1.943771</td>\n",
       "      <td>9.049703</td>\n",
       "    </tr>\n",
       "    <tr>\n",
       "      <th>4</th>\n",
       "      <td>1.550170</td>\n",
       "      <td>1.813776</td>\n",
       "      <td>1.344553</td>\n",
       "      <td>1.791659</td>\n",
       "      <td>1.500531</td>\n",
       "      <td>8.000690</td>\n",
       "    </tr>\n",
       "    <tr>\n",
       "      <th>5</th>\n",
       "      <td>1.401050</td>\n",
       "      <td>1.087034</td>\n",
       "      <td>1.733695</td>\n",
       "      <td>1.404634</td>\n",
       "      <td>1.439154</td>\n",
       "      <td>7.065567</td>\n",
       "    </tr>\n",
       "    <tr>\n",
       "      <th>6</th>\n",
       "      <td>1.091224</td>\n",
       "      <td>1.966085</td>\n",
       "      <td>1.521547</td>\n",
       "      <td>1.639002</td>\n",
       "      <td>1.917657</td>\n",
       "      <td>8.135515</td>\n",
       "    </tr>\n",
       "    <tr>\n",
       "      <th>7</th>\n",
       "      <td>1.990245</td>\n",
       "      <td>1.278304</td>\n",
       "      <td>1.498221</td>\n",
       "      <td>1.938170</td>\n",
       "      <td>1.845146</td>\n",
       "      <td>8.550086</td>\n",
       "    </tr>\n",
       "    <tr>\n",
       "      <th>8</th>\n",
       "      <td>1.464168</td>\n",
       "      <td>1.355106</td>\n",
       "      <td>1.759178</td>\n",
       "      <td>1.891613</td>\n",
       "      <td>1.235593</td>\n",
       "      <td>7.705659</td>\n",
       "    </tr>\n",
       "    <tr>\n",
       "      <th>9</th>\n",
       "      <td>1.815964</td>\n",
       "      <td>1.890868</td>\n",
       "      <td>1.391635</td>\n",
       "      <td>1.751279</td>\n",
       "      <td>1.813204</td>\n",
       "      <td>8.662950</td>\n",
       "    </tr>\n",
       "    <tr>\n",
       "      <th>10</th>\n",
       "      <td>1.757930</td>\n",
       "      <td>1.253823</td>\n",
       "      <td>1.027712</td>\n",
       "      <td>1.961023</td>\n",
       "      <td>1.744483</td>\n",
       "      <td>7.744971</td>\n",
       "    </tr>\n",
       "    <tr>\n",
       "      <th>11</th>\n",
       "      <td>1.047838</td>\n",
       "      <td>1.482597</td>\n",
       "      <td>1.892761</td>\n",
       "      <td>1.590017</td>\n",
       "      <td>1.355322</td>\n",
       "      <td>7.368534</td>\n",
       "    </tr>\n",
       "    <tr>\n",
       "      <th>12</th>\n",
       "      <td>1.574882</td>\n",
       "      <td>1.208415</td>\n",
       "      <td>1.218533</td>\n",
       "      <td>1.808217</td>\n",
       "      <td>1.683482</td>\n",
       "      <td>7.493529</td>\n",
       "    </tr>\n",
       "    <tr>\n",
       "      <th>13</th>\n",
       "      <td>1.672730</td>\n",
       "      <td>1.874048</td>\n",
       "      <td>1.410291</td>\n",
       "      <td>1.775563</td>\n",
       "      <td>1.110589</td>\n",
       "      <td>7.843222</td>\n",
       "    </tr>\n",
       "    <tr>\n",
       "      <th>14</th>\n",
       "      <td>1.634614</td>\n",
       "      <td>1.228677</td>\n",
       "      <td>1.130443</td>\n",
       "      <td>1.465284</td>\n",
       "      <td>1.110768</td>\n",
       "      <td>6.569786</td>\n",
       "    </tr>\n",
       "    <tr>\n",
       "      <th>15</th>\n",
       "      <td>1.396415</td>\n",
       "      <td>1.374944</td>\n",
       "      <td>1.529907</td>\n",
       "      <td>1.882232</td>\n",
       "      <td>1.979531</td>\n",
       "      <td>8.163029</td>\n",
       "    </tr>\n",
       "    <tr>\n",
       "      <th>16</th>\n",
       "      <td>1.557931</td>\n",
       "      <td>1.807161</td>\n",
       "      <td>1.636801</td>\n",
       "      <td>1.072401</td>\n",
       "      <td>1.293953</td>\n",
       "      <td>7.368247</td>\n",
       "    </tr>\n",
       "    <tr>\n",
       "      <th>17</th>\n",
       "      <td>1.710836</td>\n",
       "      <td>1.571522</td>\n",
       "      <td>1.418061</td>\n",
       "      <td>1.852426</td>\n",
       "      <td>1.869048</td>\n",
       "      <td>8.421893</td>\n",
       "    </tr>\n",
       "    <tr>\n",
       "      <th>18</th>\n",
       "      <td>1.403031</td>\n",
       "      <td>1.414930</td>\n",
       "      <td>1.231307</td>\n",
       "      <td>1.307933</td>\n",
       "      <td>1.312190</td>\n",
       "      <td>6.669391</td>\n",
       "    </tr>\n",
       "    <tr>\n",
       "      <th>19</th>\n",
       "      <td>1.125209</td>\n",
       "      <td>1.553713</td>\n",
       "      <td>1.273208</td>\n",
       "      <td>1.697241</td>\n",
       "      <td>1.309350</td>\n",
       "      <td>6.958721</td>\n",
       "    </tr>\n",
       "  </tbody>\n",
       "</table>\n",
       "</div>"
      ],
      "text/plain": [
       "           a         b         c         d         e         f\n",
       "0   1.019833  1.868080  1.786455  1.361948  1.621720  7.658036\n",
       "1   1.671751  1.013434  1.229214  1.452684  1.130537  6.497619\n",
       "2   1.751720  1.090883  1.548255  1.745906  1.970519  8.107284\n",
       "3   1.526276  1.715283  1.943772  1.920602  1.943771  9.049703\n",
       "4   1.550170  1.813776  1.344553  1.791659  1.500531  8.000690\n",
       "5   1.401050  1.087034  1.733695  1.404634  1.439154  7.065567\n",
       "6   1.091224  1.966085  1.521547  1.639002  1.917657  8.135515\n",
       "7   1.990245  1.278304  1.498221  1.938170  1.845146  8.550086\n",
       "8   1.464168  1.355106  1.759178  1.891613  1.235593  7.705659\n",
       "9   1.815964  1.890868  1.391635  1.751279  1.813204  8.662950\n",
       "10  1.757930  1.253823  1.027712  1.961023  1.744483  7.744971\n",
       "11  1.047838  1.482597  1.892761  1.590017  1.355322  7.368534\n",
       "12  1.574882  1.208415  1.218533  1.808217  1.683482  7.493529\n",
       "13  1.672730  1.874048  1.410291  1.775563  1.110589  7.843222\n",
       "14  1.634614  1.228677  1.130443  1.465284  1.110768  6.569786\n",
       "15  1.396415  1.374944  1.529907  1.882232  1.979531  8.163029\n",
       "16  1.557931  1.807161  1.636801  1.072401  1.293953  7.368247\n",
       "17  1.710836  1.571522  1.418061  1.852426  1.869048  8.421893\n",
       "18  1.403031  1.414930  1.231307  1.307933  1.312190  6.669391\n",
       "19  1.125209  1.553713  1.273208  1.697241  1.309350  6.958721"
      ]
     },
     "execution_count": 55,
     "metadata": {},
     "output_type": "execute_result"
    }
   ],
   "source": [
    "#col f\n",
    "ydf[\"f\"]=ydf.sum(axis=1) # axis=0 is along rows\n",
    "\n",
    "ydf"
   ]
  },
  {
   "cell_type": "code",
   "execution_count": 56,
   "id": "7277e7ab",
   "metadata": {},
   "outputs": [
    {
     "data": {
      "text/html": [
       "<div>\n",
       "<style scoped>\n",
       "    .dataframe tbody tr th:only-of-type {\n",
       "        vertical-align: middle;\n",
       "    }\n",
       "\n",
       "    .dataframe tbody tr th {\n",
       "        vertical-align: top;\n",
       "    }\n",
       "\n",
       "    .dataframe thead th {\n",
       "        text-align: right;\n",
       "    }\n",
       "</style>\n",
       "<table border=\"1\" class=\"dataframe\">\n",
       "  <thead>\n",
       "    <tr style=\"text-align: right;\">\n",
       "      <th></th>\n",
       "      <th>a</th>\n",
       "      <th>b</th>\n",
       "      <th>c</th>\n",
       "      <th>d</th>\n",
       "      <th>e</th>\n",
       "      <th>f</th>\n",
       "      <th>g</th>\n",
       "    </tr>\n",
       "  </thead>\n",
       "  <tbody>\n",
       "    <tr>\n",
       "      <th>0</th>\n",
       "      <td>1.019833</td>\n",
       "      <td>1.868080</td>\n",
       "      <td>1.786455</td>\n",
       "      <td>1.361948</td>\n",
       "      <td>1.621720</td>\n",
       "      <td>7.658036</td>\n",
       "      <td>LT8</td>\n",
       "    </tr>\n",
       "    <tr>\n",
       "      <th>1</th>\n",
       "      <td>1.671751</td>\n",
       "      <td>1.013434</td>\n",
       "      <td>1.229214</td>\n",
       "      <td>1.452684</td>\n",
       "      <td>1.130537</td>\n",
       "      <td>6.497619</td>\n",
       "      <td>LT8</td>\n",
       "    </tr>\n",
       "    <tr>\n",
       "      <th>2</th>\n",
       "      <td>1.751720</td>\n",
       "      <td>1.090883</td>\n",
       "      <td>1.548255</td>\n",
       "      <td>1.745906</td>\n",
       "      <td>1.970519</td>\n",
       "      <td>8.107284</td>\n",
       "      <td>GT8</td>\n",
       "    </tr>\n",
       "    <tr>\n",
       "      <th>3</th>\n",
       "      <td>1.526276</td>\n",
       "      <td>1.715283</td>\n",
       "      <td>1.943772</td>\n",
       "      <td>1.920602</td>\n",
       "      <td>1.943771</td>\n",
       "      <td>9.049703</td>\n",
       "      <td>GT8</td>\n",
       "    </tr>\n",
       "    <tr>\n",
       "      <th>4</th>\n",
       "      <td>1.550170</td>\n",
       "      <td>1.813776</td>\n",
       "      <td>1.344553</td>\n",
       "      <td>1.791659</td>\n",
       "      <td>1.500531</td>\n",
       "      <td>8.000690</td>\n",
       "      <td>GT8</td>\n",
       "    </tr>\n",
       "    <tr>\n",
       "      <th>5</th>\n",
       "      <td>1.401050</td>\n",
       "      <td>1.087034</td>\n",
       "      <td>1.733695</td>\n",
       "      <td>1.404634</td>\n",
       "      <td>1.439154</td>\n",
       "      <td>7.065567</td>\n",
       "      <td>LT8</td>\n",
       "    </tr>\n",
       "    <tr>\n",
       "      <th>6</th>\n",
       "      <td>1.091224</td>\n",
       "      <td>1.966085</td>\n",
       "      <td>1.521547</td>\n",
       "      <td>1.639002</td>\n",
       "      <td>1.917657</td>\n",
       "      <td>8.135515</td>\n",
       "      <td>GT8</td>\n",
       "    </tr>\n",
       "    <tr>\n",
       "      <th>7</th>\n",
       "      <td>1.990245</td>\n",
       "      <td>1.278304</td>\n",
       "      <td>1.498221</td>\n",
       "      <td>1.938170</td>\n",
       "      <td>1.845146</td>\n",
       "      <td>8.550086</td>\n",
       "      <td>GT8</td>\n",
       "    </tr>\n",
       "    <tr>\n",
       "      <th>8</th>\n",
       "      <td>1.464168</td>\n",
       "      <td>1.355106</td>\n",
       "      <td>1.759178</td>\n",
       "      <td>1.891613</td>\n",
       "      <td>1.235593</td>\n",
       "      <td>7.705659</td>\n",
       "      <td>LT8</td>\n",
       "    </tr>\n",
       "    <tr>\n",
       "      <th>9</th>\n",
       "      <td>1.815964</td>\n",
       "      <td>1.890868</td>\n",
       "      <td>1.391635</td>\n",
       "      <td>1.751279</td>\n",
       "      <td>1.813204</td>\n",
       "      <td>8.662950</td>\n",
       "      <td>GT8</td>\n",
       "    </tr>\n",
       "    <tr>\n",
       "      <th>10</th>\n",
       "      <td>1.757930</td>\n",
       "      <td>1.253823</td>\n",
       "      <td>1.027712</td>\n",
       "      <td>1.961023</td>\n",
       "      <td>1.744483</td>\n",
       "      <td>7.744971</td>\n",
       "      <td>LT8</td>\n",
       "    </tr>\n",
       "    <tr>\n",
       "      <th>11</th>\n",
       "      <td>1.047838</td>\n",
       "      <td>1.482597</td>\n",
       "      <td>1.892761</td>\n",
       "      <td>1.590017</td>\n",
       "      <td>1.355322</td>\n",
       "      <td>7.368534</td>\n",
       "      <td>LT8</td>\n",
       "    </tr>\n",
       "    <tr>\n",
       "      <th>12</th>\n",
       "      <td>1.574882</td>\n",
       "      <td>1.208415</td>\n",
       "      <td>1.218533</td>\n",
       "      <td>1.808217</td>\n",
       "      <td>1.683482</td>\n",
       "      <td>7.493529</td>\n",
       "      <td>LT8</td>\n",
       "    </tr>\n",
       "    <tr>\n",
       "      <th>13</th>\n",
       "      <td>1.672730</td>\n",
       "      <td>1.874048</td>\n",
       "      <td>1.410291</td>\n",
       "      <td>1.775563</td>\n",
       "      <td>1.110589</td>\n",
       "      <td>7.843222</td>\n",
       "      <td>LT8</td>\n",
       "    </tr>\n",
       "    <tr>\n",
       "      <th>14</th>\n",
       "      <td>1.634614</td>\n",
       "      <td>1.228677</td>\n",
       "      <td>1.130443</td>\n",
       "      <td>1.465284</td>\n",
       "      <td>1.110768</td>\n",
       "      <td>6.569786</td>\n",
       "      <td>LT8</td>\n",
       "    </tr>\n",
       "    <tr>\n",
       "      <th>15</th>\n",
       "      <td>1.396415</td>\n",
       "      <td>1.374944</td>\n",
       "      <td>1.529907</td>\n",
       "      <td>1.882232</td>\n",
       "      <td>1.979531</td>\n",
       "      <td>8.163029</td>\n",
       "      <td>GT8</td>\n",
       "    </tr>\n",
       "    <tr>\n",
       "      <th>16</th>\n",
       "      <td>1.557931</td>\n",
       "      <td>1.807161</td>\n",
       "      <td>1.636801</td>\n",
       "      <td>1.072401</td>\n",
       "      <td>1.293953</td>\n",
       "      <td>7.368247</td>\n",
       "      <td>LT8</td>\n",
       "    </tr>\n",
       "    <tr>\n",
       "      <th>17</th>\n",
       "      <td>1.710836</td>\n",
       "      <td>1.571522</td>\n",
       "      <td>1.418061</td>\n",
       "      <td>1.852426</td>\n",
       "      <td>1.869048</td>\n",
       "      <td>8.421893</td>\n",
       "      <td>GT8</td>\n",
       "    </tr>\n",
       "    <tr>\n",
       "      <th>18</th>\n",
       "      <td>1.403031</td>\n",
       "      <td>1.414930</td>\n",
       "      <td>1.231307</td>\n",
       "      <td>1.307933</td>\n",
       "      <td>1.312190</td>\n",
       "      <td>6.669391</td>\n",
       "      <td>LT8</td>\n",
       "    </tr>\n",
       "    <tr>\n",
       "      <th>19</th>\n",
       "      <td>1.125209</td>\n",
       "      <td>1.553713</td>\n",
       "      <td>1.273208</td>\n",
       "      <td>1.697241</td>\n",
       "      <td>1.309350</td>\n",
       "      <td>6.958721</td>\n",
       "      <td>LT8</td>\n",
       "    </tr>\n",
       "  </tbody>\n",
       "</table>\n",
       "</div>"
      ],
      "text/plain": [
       "           a         b         c         d         e         f    g\n",
       "0   1.019833  1.868080  1.786455  1.361948  1.621720  7.658036  LT8\n",
       "1   1.671751  1.013434  1.229214  1.452684  1.130537  6.497619  LT8\n",
       "2   1.751720  1.090883  1.548255  1.745906  1.970519  8.107284  GT8\n",
       "3   1.526276  1.715283  1.943772  1.920602  1.943771  9.049703  GT8\n",
       "4   1.550170  1.813776  1.344553  1.791659  1.500531  8.000690  GT8\n",
       "5   1.401050  1.087034  1.733695  1.404634  1.439154  7.065567  LT8\n",
       "6   1.091224  1.966085  1.521547  1.639002  1.917657  8.135515  GT8\n",
       "7   1.990245  1.278304  1.498221  1.938170  1.845146  8.550086  GT8\n",
       "8   1.464168  1.355106  1.759178  1.891613  1.235593  7.705659  LT8\n",
       "9   1.815964  1.890868  1.391635  1.751279  1.813204  8.662950  GT8\n",
       "10  1.757930  1.253823  1.027712  1.961023  1.744483  7.744971  LT8\n",
       "11  1.047838  1.482597  1.892761  1.590017  1.355322  7.368534  LT8\n",
       "12  1.574882  1.208415  1.218533  1.808217  1.683482  7.493529  LT8\n",
       "13  1.672730  1.874048  1.410291  1.775563  1.110589  7.843222  LT8\n",
       "14  1.634614  1.228677  1.130443  1.465284  1.110768  6.569786  LT8\n",
       "15  1.396415  1.374944  1.529907  1.882232  1.979531  8.163029  GT8\n",
       "16  1.557931  1.807161  1.636801  1.072401  1.293953  7.368247  LT8\n",
       "17  1.710836  1.571522  1.418061  1.852426  1.869048  8.421893  GT8\n",
       "18  1.403031  1.414930  1.231307  1.307933  1.312190  6.669391  LT8\n",
       "19  1.125209  1.553713  1.273208  1.697241  1.309350  6.958721  LT8"
      ]
     },
     "execution_count": 56,
     "metadata": {},
     "output_type": "execute_result"
    }
   ],
   "source": [
    "\n",
    "\n",
    "#col g\n",
    "# ydf[\"g\"]=ydf[\"f\"]>8\n",
    "\n",
    "ydf[\"g\"]=ydf[\"f\"].apply(lambda val:\"LT8\" if val<8 else \"GT8\") #applying this lambd fucntion over f col\n",
    "\n",
    "\n",
    "\n",
    "ydf"
   ]
  },
  {
   "cell_type": "code",
   "execution_count": null,
   "id": "dd9fb8a6",
   "metadata": {},
   "outputs": [
    {
     "name": "stdout",
     "output_type": "stream",
     "text": [
      "12\n",
      "\n",
      "0.4807978098264697\n",
      "\n",
      "0.3553710578225427\n",
      "\n"
     ]
    }
   ],
   "source": [
    "ydf_g_lt8=ydf[ydf[\"g\"]==\"LT8\"]\n",
    "ydf_g_gt8=ydf[ydf[\"g\"]==\"GT8\"]\n",
    "#sum of rows\n",
    "lt8_rows=(ydf[\"g\"]==\"LT8\").sum()\n",
    "print(lt8_rows)\n",
    "print()\n",
    "\n",
    "#lt8\n",
    "std_f_lt8=ydf_g_lt8[\"f\"].std()\n",
    "print(std_f_lt8)\n",
    "print()\n",
    "\n",
    "#gt8\n",
    "\n",
    "std_f_gt8=ydf_g_gt8[\"f\"].std()\n",
    "print(std_f_gt8)\n",
    "print()"
   ]
  },
  {
   "cell_type": "markdown",
   "id": "6eb9113c",
   "metadata": {},
   "source": [
    "**Q12** "
   ]
  },
  {
   "cell_type": "markdown",
   "id": "afbbbc69",
   "metadata": {},
   "source": [
    "broadcasting=> expansion of a matrix in one of the dimensions, when added with a matrix with more dimensions"
   ]
  },
  {
   "cell_type": "code",
   "execution_count": 153,
   "id": "f838b8cf",
   "metadata": {},
   "outputs": [
    {
     "name": "stdout",
     "output_type": "stream",
     "text": [
      "M1: \n",
      "[[[0.37711041]\n",
      "  [0.79554118]]\n",
      "\n",
      " [[0.96712869]\n",
      "  [0.46448855]]]\n",
      "\n",
      "M2: \n",
      "[[[0.33463689 0.74616688 0.89234615 0.67260044]\n",
      "  [0.50295376 0.0467906  0.92698572 0.82279906]]\n",
      "\n",
      " [[0.7970337  0.02675887 0.81858857 0.41523222]\n",
      "  [0.8675005  0.70756601 0.78785885 0.46222933]]]\n",
      "\n",
      "M3: \n",
      "[[[0.7117473  1.12327728 1.26945656 1.04971085]\n",
      "  [1.29849494 0.84233178 1.7225269  1.61834024]]\n",
      "\n",
      " [[1.7641624  0.99388757 1.78571726 1.38236092]\n",
      "  [1.33198905 1.17205456 1.25234741 0.92671788]]]\n"
     ]
    }
   ],
   "source": [
    "m1=np.random.random(size=(2,2,1))\n",
    "m2=np.random.random(size=(2,2,4))\n",
    "\n",
    "print(\"M1: \")\n",
    "print(f\"{m1}\\n\")\n",
    "\n",
    "print(\"M2: \")\n",
    "\n",
    "print(f\"{m2}\\n\")\n",
    "m3=m1+m2\n",
    "print(\"M3: \")\n",
    "\n",
    "print(f\"{m3}\")\n",
    "\n",
    "#can see it expanded/inflated to another dimension"
   ]
  },
  {
   "cell_type": "markdown",
   "id": "e46d1604",
   "metadata": {},
   "source": [
    "**Q13** "
   ]
  },
  {
   "cell_type": "markdown",
   "id": "a63fe0ec",
   "metadata": {},
   "source": [
    "Argmin => gives the index of the minimum element in the array"
   ]
  },
  {
   "cell_type": "code",
   "execution_count": 88,
   "id": "7d5323ef",
   "metadata": {},
   "outputs": [],
   "source": [
    "def min_val(ex_arr):\n",
    "    #initialize with first element just to assign a val\n",
    "    min_arg=0\n",
    "    min_v=ex_arr[0]\n",
    "    for i in range(len(ex_arr)-1):\n",
    "        if ex_arr[i]<min_v:\n",
    "            min_arg=i\n",
    "\n",
    "    return min_arg"
   ]
  },
  {
   "cell_type": "code",
   "execution_count": 89,
   "id": "fd5dd79d",
   "metadata": {},
   "outputs": [
    {
     "data": {
      "text/plain": [
       "3"
      ]
     },
     "execution_count": 89,
     "metadata": {},
     "output_type": "execute_result"
    }
   ],
   "source": [
    "x_arr=np.array([1,2,4,-1,5])\n",
    "min_val(x_arr)"
   ]
  },
  {
   "cell_type": "code",
   "execution_count": 90,
   "id": "460f59f5",
   "metadata": {},
   "outputs": [
    {
     "data": {
      "text/plain": [
       "3"
      ]
     },
     "execution_count": 90,
     "metadata": {},
     "output_type": "execute_result"
    }
   ],
   "source": [
    "np.argmin(x_arr)"
   ]
  },
  {
   "cell_type": "markdown",
   "id": "a3f4fa56",
   "metadata": {},
   "source": [
    "same result"
   ]
  }
 ],
 "metadata": {
  "kernelspec": {
   "display_name": "base",
   "language": "python",
   "name": "python3"
  },
  "language_info": {
   "codemirror_mode": {
    "name": "ipython",
    "version": 3
   },
   "file_extension": ".py",
   "mimetype": "text/x-python",
   "name": "python",
   "nbconvert_exporter": "python",
   "pygments_lexer": "ipython3",
   "version": "3.12.3"
  }
 },
 "nbformat": 4,
 "nbformat_minor": 5
}
